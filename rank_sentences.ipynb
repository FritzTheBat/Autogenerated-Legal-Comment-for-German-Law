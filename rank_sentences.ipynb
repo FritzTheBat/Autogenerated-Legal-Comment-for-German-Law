{
 "cells": [
  {
   "cell_type": "markdown",
   "metadata": {},
   "source": [
    "# AutoCom: Compute ranking score for citing sentences"
   ]
  },
  {
   "cell_type": "code",
   "execution_count": 15,
   "metadata": {},
   "outputs": [
    {
     "name": "stdout",
     "output_type": "stream",
     "text": [
      "Requirement already satisfied: nltk in /srv/notebooks/miniconda3/lib/python3.7/site-packages (3.4)\n",
      "Requirement already satisfied: six in /srv/notebooks/miniconda3/lib/python3.7/site-packages (from nltk) (1.12.0)\n",
      "Requirement already satisfied: singledispatch in /srv/notebooks/miniconda3/lib/python3.7/site-packages (from nltk) (3.4.0.3)\n",
      "Collecting legal-reference-extraction from git+https://github.com/openlegaldata/legal-reference-extraction.git#egg=legal-reference-extraction\n",
      "  Cloning https://github.com/openlegaldata/legal-reference-extraction.git to /tmp/pip-install-uh42eutc/legal-reference-extraction\n",
      "Collecting nltk==3.2.2 (from legal-reference-extraction)\n",
      "\u001b[?25l  Downloading https://files.pythonhosted.org/packages/13/ce/cba8bf82c8ab538d444ea4ab6f4eb1d80340c7b737d7a8d1f08b429fccae/nltk-3.2.2.tar.gz (1.2MB)\n",
      "\u001b[K    100% |████████████████████████████████| 1.2MB 7.8MB/s eta 0:00:01\n",
      "\u001b[?25hRequirement already satisfied: six in /srv/notebooks/miniconda3/lib/python3.7/site-packages (from nltk==3.2.2->legal-reference-extraction) (1.12.0)\n",
      "Building wheels for collected packages: legal-reference-extraction, nltk\n",
      "  Running setup.py bdist_wheel for legal-reference-extraction ... \u001b[?25ldone\n",
      "\u001b[?25h  Stored in directory: /tmp/pip-ephem-wheel-cache-45ab2tye/wheels/78/e2/14/308a1aa4449610f017210056c635ef23ee7493c22ddeac5831\n",
      "  Running setup.py bdist_wheel for nltk ... \u001b[?25ldone\n",
      "\u001b[?25h  Stored in directory: /home/debian/.cache/pip/wheels/64/db/e2/39e07b414a807d7aa0350c58417f61fd8654eca1fb5daf20b8\n",
      "Successfully built legal-reference-extraction nltk\n",
      "Installing collected packages: nltk, legal-reference-extraction\n",
      "  Found existing installation: nltk 3.4\n",
      "    Uninstalling nltk-3.4:\n",
      "      Successfully uninstalled nltk-3.4\n",
      "Successfully installed legal-reference-extraction-0.2.0 nltk-3.2.2\n"
     ]
    }
   ],
   "source": [
    "# Install deps\n",
    "!pip install nltk\n",
    "!pip install git+https://github.com/openlegaldata/legal-reference-extraction.git#egg=legal-reference-extraction\n",
    "!pip install spacy"
   ]
  },
  {
   "cell_type": "code",
   "execution_count": 9,
   "metadata": {},
   "outputs": [],
   "source": [
    "# Change path to your data dir\n",
    "data_dir = '../data/'"
   ]
  },
  {
   "cell_type": "code",
   "execution_count": 12,
   "metadata": {},
   "outputs": [],
   "source": [
    "import json\n",
    "import re\n",
    "import locale\n",
    "import os\n",
    "import sys\n",
    "\n",
    "import spacy"
   ]
  },
  {
   "cell_type": "code",
   "execution_count": 3,
   "metadata": {},
   "outputs": [],
   "source": [
    "# OLDP deps\n",
    "from utils import preprocessing\n",
    "from refex.extractor import RefExtractor\n",
    "\n",
    "law_extractor = RefExtractor()\n",
    "law_extractor.do_law_refs = True\n",
    "law_extractor.do_case_refs = False\n",
    "\n",
    "\n",
    "case_extractor = RefExtractor()\n",
    "case_extractor.do_law_refs = False\n",
    "case_extractor.do_case_refs = True\n",
    "\n",
    "lit_pattern = re.compile('(NJW|MDR)\\s?([0-9]{2,4})')\n"
   ]
  },
  {
   "cell_type": "code",
   "execution_count": 47,
   "metadata": {},
   "outputs": [
    {
     "data": {
      "text/plain": [
       "[<RefMarker({'text': '§§ 288, 291 BGB', 'start': 69, 'end': 84, 'line': '', 'uuid': UUID('dc89aec9-32cd-48d9-b575-4108cc648500'), 'references': [<Ref(law: bgb/288)>, <Ref(law: bgb/291)>]})>,\n",
       " <RefMarker({'text': '§ 42 Satz 1 AsylG', 'start': 411, 'end': 428, 'line': '', 'uuid': UUID('09e3475a-0d73-4ec1-8afa-d7b92bd1a391'), 'references': [<Ref(law: asylg/42)>]})>]"
      ]
     },
     "execution_count": 47,
     "metadata": {},
     "output_type": "execute_result"
    }
   ],
   "source": [
    "# Test ref ex\n",
    "test_text = 'Kammer, namentlich auch die Feststellungen zu den Folgen, die dem   (§§ 288, 291 BGB) entfallen lässt (grundlegend BGH Urteil vom 24. Juni 1981 - IVa ZR 104/80 - NJW 1981, 2244 f.; BGH Urteile vom 7. Oktober 1982 -VII ZR 163/81 - WM 1983, 21, 22 und vom 15. März 2012 - IX ZR 35/11 - NJW2012, 1717 Rn. 11 mwN; vgl. auch BAG NZA 2008, 757 Rn. 16).  bei einem längeren Verbleib in Tunesien drohen, gebunden (vgl. § 42 Satz 1 AsylG)'\n",
    "_, markers = law_extractor.extract(test_text)\n",
    "markers"
   ]
  },
  {
   "cell_type": "code",
   "execution_count": 52,
   "metadata": {},
   "outputs": [
    {
     "data": {
      "text/plain": [
       "[('NJW', '1981'), ('NJW', '2012')]"
      ]
     },
     "execution_count": 52,
     "metadata": {},
     "output_type": "execute_result"
    }
   ],
   "source": [
    "\n",
    "lit_pattern.findall(test_text)"
   ]
  },
  {
   "cell_type": "markdown",
   "metadata": {},
   "source": [
    "## Spacy Text Classification"
   ]
  },
  {
   "cell_type": "code",
   "execution_count": 22,
   "metadata": {},
   "outputs": [],
   "source": [
    "# Load model\n",
    "model_path = os.path.join(data_dir, 'autocom_model')\n",
    "nlp = spacy.load(model_path)\n",
    "predict_label = 'POSITIVE'"
   ]
  },
  {
   "cell_type": "code",
   "execution_count": 23,
   "metadata": {},
   "outputs": [
    {
     "data": {
      "text/plain": [
       "0.9598762392997742"
      ]
     },
     "execution_count": 23,
     "metadata": {},
     "output_type": "execute_result"
    }
   ],
   "source": [
    "# Predict\n",
    "doc = nlp(test_text)\n",
    "doc.cats['POSITIVE']"
   ]
  },
  {
   "cell_type": "code",
   "execution_count": 53,
   "metadata": {},
   "outputs": [
    {
     "name": "stdout",
     "output_type": "stream",
     "text": [
      "done\n"
     ]
    }
   ],
   "source": [
    "# Load cases from dump file (alternatively we could get cases from API: search for \"Streitwert\")\n",
    "file_path = os.path.join(data_dir, 'courtDecisionsPreprocessed.json')\n",
    "n = 10000\n",
    "\n",
    "book = 'BGB'\n",
    "number = '439'\n",
    "\n",
    "sents = []\n",
    "sents_dict = {}\n",
    "out = []\n",
    "\n",
    "\n",
    "with open(file_path, 'r') as f:\n",
    "    for case_json in [next(f) for x in range(n)]:  # Read line-by-line the first n lines (one case per line)\n",
    "        case = json.loads(case_json)  # Parse JSON\n",
    "        has_score = False\n",
    "        \n",
    "        for fs_i, fs in enumerate(case['fundstellen']):  # Iterate over citations\n",
    "        #for fs in case['fundstellen']:  # Iterate over citations\n",
    "            \n",
    "            if 'gesetze' in fs:\n",
    "                for g in fs['gesetze']:\n",
    "                    # Test if it refers to the requested law\n",
    "                    if 'book' in g and 'number' in g and g['book'] == book and g['number'] == number:\n",
    "                        sent = fs['sentencesRechtssatz']\n",
    "                        \n",
    "                        if sent in sents_dict:\n",
    "                            continue\n",
    "                        else:\n",
    "                            sents_dict[sent] = 1\n",
    "                        \n",
    "                        _, case_markers = case_extractor.extract(sent)\n",
    "                        _, law_markers = law_extractor.extract(sent)\n",
    "                        \n",
    "                        law_cits = [[r for r in m.references] for m in law_markers]\n",
    "                        lit_cits = lit_pattern.findall(sent)\n",
    "                        \n",
    "                        pos = case['text'].find(sent)\n",
    "                        case_length = len(case['text'])\n",
    "                        rel_pos = pos / case_length\n",
    "                        law_cit_count =  min(len(law_cits) - 1, 0)  # Do not count itself\n",
    "                        \n",
    "                        sent_data = {\n",
    "                            'case_cit_count': len(case_markers), \n",
    "                            'law_cit_count': law_cit_count,\n",
    "                            'lit_cit_count': len(lit_cits),\n",
    "                            'pos': pos, \n",
    "                            'rel_pos': rel_pos,\n",
    "                            'case_length': case_length,\n",
    "                            'score': law_cit_count,\n",
    "                            'text': sent,\n",
    "                            'cat': nlp(sent).cats['POSITIVE']\n",
    "                        }\n",
    "                        \n",
    "                        sents.append(sent_data)\n",
    "                        \n",
    "                        case['fundstellen'][fs_i]['rank_score'] = sent_data['score']\n",
    "                        \n",
    "                        has_score = True\n",
    "        if has_score:\n",
    "            out.append(json.dumps(case))\n",
    "            \n",
    "        #print('###########')\n",
    "    \n",
    "        \n",
    "        \n",
    "print('done')"
   ]
  },
  {
   "cell_type": "code",
   "execution_count": 51,
   "metadata": {},
   "outputs": [
    {
     "name": "stdout",
     "output_type": "stream",
     "text": [
      "[\n",
      "    {\n",
      "        \"case_cit_count\": 1,\n",
      "        \"law_cit_count\": 0,\n",
      "        \"lit_cit_count\": 1,\n",
      "        \"pos\": -1,\n",
      "        \"rel_pos\": -4.575611988103409e-05,\n",
      "        \"case_length\": 21855,\n",
      "        \"score\": 0,\n",
      "        \"text\": \"Die Nichterf\\u00fcllung des Nacherf\\u00fcllungsanspruchs aus \\u00a7 439 Abs. 1 BGB stellt in diesem Fall keine Pflichtverletzung im Sinne des \\u00a7 280 Abs. 1 und 3, \\u00a7 281 Abs. 1 BGB (i.V. m. \\u00a7 437 Nr. 3 BGB) dar, denn \\u00a7 280 Abs. 1 und 3, \\u00a7 281 Abs. 1 BGB setzen voraus, dass dem Gl\\u00e4ubiger ein Anspruch aus dem Schuldverh\\u00e4ltnis zusteht, der nicht durch eine dauernde oder aufschiebende Einrede gehemmt ist (vgl. BGH, Urteil vom 7. M\\u00e4rz 2013 -VII ZR 162/12, NJW2013, 1431 Rn. 20).\",\n",
      "        \"cat\": 0.9999405145645142\n",
      "    },\n",
      "    {\n",
      "        \"case_cit_count\": 2,\n",
      "        \"law_cit_count\": 0,\n",
      "        \"lit_cit_count\": 1,\n",
      "        \"pos\": -1,\n",
      "        \"rel_pos\": -3.335779571685903e-05,\n",
      "        \"case_length\": 29978,\n",
      "        \"score\": 0,\n",
      "        \"text\": \"Da die Beklagte durch ihre Weigerung, die nach den Umst\\u00e4nden gem\\u00e4\\u00df \\u00a7 439 Abs. 1 BGB aufgrund der ihr mitgeteilten Mangelsymptome gebotene Mangelerforschung und -beseitigung unverz\\u00fcglich vorzunehmen, pflichtwidrig das Scheitern des Kaufvertrages verursacht hat, ist sie dem Kl\\u00e4ger zugleich gem\\u00e4\\u00df \\u00a7 437 Nr. 3, \\u00a7 284 BGB zu dem Ersatz seiner vom Berufungsgericht festgestellten fehlgeschlagenen Aufwendungen (vgl. Senatsurteil vom 15. April 2015 - VIII ZR 80/14, WM 2015, 1485 Rn. 24 mwN) sowie gem\\u00e4\\u00df \\u00a7 437 Nr. 3, 440 Satz 1 Alt. 3, \\u00a7 280 Abs.1, 3, \\u00a7 281 Abs.1, 2 BGB zu dem Ersatz seines Nutzungsausfallschadens (vgl. Senatsurteil vom 14. April 2010 - VIII ZR 145/09, NJW 2010, 2426 Rn. 13 ff.) einschlie\\u00dflich der durch die ungeb\\u00fchrliche Verz\\u00f6gerung der Mangelbeseitigung und den daran ankn\\u00fcpfenden R\\u00fccktritt veranlassten Rechtsanwaltskosten (\\u00a7 437 Nr. 3, \\u00a7 280 Abs. 1 BGB) verpflichtet.\",\n",
      "        \"cat\": 0.9999179840087891\n",
      "    },\n",
      "    {\n",
      "        \"case_cit_count\": 2,\n",
      "        \"law_cit_count\": 0,\n",
      "        \"lit_cit_count\": 2,\n",
      "        \"pos\": 23073,\n",
      "        \"rel_pos\": 0.7696644205750884,\n",
      "        \"case_length\": 29978,\n",
      "        \"score\": 0,\n",
      "        \"text\": \"Dabei \\u00fcbersieht die Revision, die hierbei - anders als das Berufungsgericht - auch nicht zwischen sicherheitsrelevanten und sonstigen M\\u00e4ngeln differenzieren will, dass ein K\\u00e4ufer den Anforderungen an ein die Nacherf\\u00fcllungspflicht gem\\u00e4\\u00df \\u00a7 439 Abs. 1 BGB ausl\\u00f6sendes Nacherf\\u00fcllungsverlangen bereits dadurch gen\\u00fcgt, dass er dem Verk\\u00e4ufer neben einer Einr\\u00e4umung der Untersuchungsm\\u00f6glichkeit (Senatsurteil vom 3. M\\u00e4rz 2010 - VIII ZR 310/08, NJW 2010, 1448 Rn. 12 mwN) die Mangelsymptome hinreichend genau bezeichnet und ihm auf diese Weise eine Pr\\u00fcfung der Ursachen des in den Symptomen zu dem Ausdruck kommenden Mangels sowie der in Betracht kommenden Abhilfem\\u00f6glichkeiten erm\\u00f6glicht (vgl. BGH, Urteil vom 9. Oktober 2008 - VII ZR 80/07, NJW 2009, 354 Rn. 19 [Werkvertragsrecht]; OLG M\\u00fcnchen, MDR 2006, 1338, 1339; Reinking/Eggert, Der Autokauf, 13. Aufl., Rn. 689; jeweils mwN).\",\n",
      "        \"cat\": 0.9993477463722229\n",
      "    },\n",
      "    {\n",
      "        \"case_cit_count\": 2,\n",
      "        \"law_cit_count\": 0,\n",
      "        \"lit_cit_count\": 0,\n",
      "        \"pos\": -1,\n",
      "        \"rel_pos\": -4.605111673958094e-05,\n",
      "        \"case_length\": 21715,\n",
      "        \"score\": 0,\n",
      "        \"text\": \"22\\tVoraussetzung f\\u00fcr eine richtlinienkonforme Auslegung des \\u00a7 439 Abs. 1 Alt. 2 BGB \\u00fcber den Verbrauchsg\\u00fcterkauf hinaus ist nach dem oben Gesagten aber weiter, dass eine Ausdehnung der Nachlieferungspflicht im Sinne des Urteils des Gerichtshofs dem Willen des deutschen Gesetzgebers entspricht (vgl. Senatsurteile vom 26. November 2008 - VIII ZR 200/05, BGHZ 179, 27 Rn. 28 zur teleologischen Reduktion des \\u00a7 439 Abs.4 BGB; vom 13. April 2011 - VIII ZR 220/10, BGHZ 189, 196 Rn. 47 zu \\u00a7 269 Abs. 1 BGB).\",\n",
      "        \"cat\": 0.9992762207984924\n",
      "    },\n",
      "    {\n",
      "        \"case_cit_count\": 1,\n",
      "        \"law_cit_count\": 0,\n",
      "        \"lit_cit_count\": 0,\n",
      "        \"pos\": -1,\n",
      "        \"rel_pos\": -6.25117209476777e-05,\n",
      "        \"case_length\": 15997,\n",
      "        \"score\": 0,\n",
      "        \"text\": \"Diese Sichtweise verkennt nicht nur den gegen\\u00fcber den sonstigen Rechten und Pflichten der Kaufvertragsparteien eigenst\\u00e4ndigen Anspruchscharakter des \\u00a7 439 Abs. 2 BGB und die hiermit verbundene Absicht des nationalen deutschen Gesetzgebers, mit dieser Norm die von Art. 3 Abs.3 Satz 1, Abs.4 der Richtlinie geforderte Unentgeltlichkeit der Nacherf\\u00fcllung verschuldensunabh\\u00e4ngig zu gew\\u00e4hrleisten (BT-Drucks. 14/6040, S. 231; vgl. dazu auch Senatsurteil vom 21. Dezember 2011 - VIII ZR 70/08, BGHZ 192, 148 Rn. 50).\",\n",
      "        \"cat\": 0.981476366519928\n",
      "    },\n",
      "    {\n",
      "        \"case_cit_count\": 1,\n",
      "        \"law_cit_count\": 0,\n",
      "        \"lit_cit_count\": 1,\n",
      "        \"pos\": -1,\n",
      "        \"rel_pos\": -2.4554338751657417e-05,\n",
      "        \"case_length\": 40726,\n",
      "        \"score\": 0,\n",
      "        \"text\": \"Kann der Verk\\u00e4ufer die Nachbesserung nach \\u00a7 439 Abs.3 BGB verweigern, ist es folgerichtig, ihn schadensersatzrechtlich nicht f\\u00fcr einen Teil der M\\u00e4ngelbeseitigungskosten einstehen zu lassen, sondern den Schadensersatz auf die H\\u00f6he der Differenz des Wertes der Kaufsache in mangelfreiem und in mangelhaftem Zustand zu beschr\\u00e4nken (zu dem Werkvertragsrecht BGH, Urteil vom 11. Oktober 2012 -VII ZR 179/11, NJW2013, 370 Rn. 12; vgl. auch Urteil vom 27. November 2009 - LwZR 11/09, NZM 2010, 442 Rn. 11 f.).\",\n",
      "        \"cat\": 0.9557498693466187\n",
      "    },\n",
      "    {\n",
      "        \"case_cit_count\": 1,\n",
      "        \"law_cit_count\": 0,\n",
      "        \"lit_cit_count\": 1,\n",
      "        \"pos\": -1,\n",
      "        \"rel_pos\": -2.4554338751657417e-05,\n",
      "        \"case_length\": 40726,\n",
      "        \"score\": 0,\n",
      "        \"text\": \"42\\t(1) Ausgangspunkt ist \\u00a7 439 Abs.3 Satz 2 BGB, der f\\u00fcr die Pr\\u00fcfung der Unverh\\u00e4ltnism\\u00e4\\u00dfigkeit den Wert der Sache in mangelfreiem Zustand und die Bedeutung des Mangels hervorhebt (BGH, Beschluss vom 14. Januar 2009 - VIII ZR 70/08, NJW 2009, 1660 Rn. 15).\",\n",
      "        \"cat\": 0.9133803844451904\n",
      "    },\n",
      "    {\n",
      "        \"case_cit_count\": 1,\n",
      "        \"law_cit_count\": 0,\n",
      "        \"lit_cit_count\": 0,\n",
      "        \"pos\": 7755,\n",
      "        \"rel_pos\": 0.3548387096774194,\n",
      "        \"case_length\": 21855,\n",
      "        \"score\": 0,\n",
      "        \"text\": \"Zum einen kann der Verk\\u00e4ufer seine Pflicht zur Lieferung der mangelfreien Kaufsache (\\u00a7 433 Abs. 1 Satz 2 BGB) schuldhaft verletzt haben; zu dem anderen kann sich ein solcher Anspruch unter dem Gesichtspunkt einer Verletzung der Verpflichtung des Verk\\u00e4ufers zur Nacherf\\u00fcllung (\\u00a7 439 Abs. 1 BGB) ergeben (vgl. Senatsurteil vom 17. Oktober 2012 - VIII ZR 226/11, BGHZ 195, 135 Rn. 11 ff.).\",\n",
      "        \"cat\": 0.9110761880874634\n",
      "    },\n",
      "    {\n",
      "        \"case_cit_count\": 1,\n",
      "        \"law_cit_count\": 0,\n",
      "        \"lit_cit_count\": 0,\n",
      "        \"pos\": -1,\n",
      "        \"rel_pos\": -6.25117209476777e-05,\n",
      "        \"case_length\": 15997,\n",
      "        \"score\": 0,\n",
      "        \"text\": \"Au\\u00dferdem hat der Senat klar gestellt, dass die Vorschrift, nach der der K\\u00e4ufer Anspruch auf \\u00dcbernahme der 'zu dem Zwecke der Nacherf\\u00fcllung erforderlichen Aufwendungen' durch den Verk\\u00e4ufer hat, in zeitlicher Hinsicht voraussetzt, dass sich der Vollzug des Kaufvertrags bei Entstehung der Aufwendungen im Stadium der Nacherf\\u00fcllung gem\\u00e4\\u00df \\u00a7 439 Abs. 1 BGB befindet (Senatsurteil vom 15. Juli 2008 - VIII ZR 211/07, BGHZ 177, 224 Rn. 9), und dass solche zu dem Zwecke der Nacherf\\u00fcllung get\\u00e4tigten Aufwendungen nur dann vom Verk\\u00e4ufer zu tragen sind, wenn tats\\u00e4chlich ein Mangel vor-\",\n",
      "        \"cat\": 0.897376298904419\n",
      "    },\n",
      "    {\n",
      "        \"case_cit_count\": 1,\n",
      "        \"law_cit_count\": 0,\n",
      "        \"lit_cit_count\": 2,\n",
      "        \"pos\": -1,\n",
      "        \"rel_pos\": -4.605111673958094e-05,\n",
      "        \"case_length\": 21715,\n",
      "        \"score\": 0,\n",
      "        \"text\": \"BGB \\u00a7 439 Abs. 1 a)\\t\\u00a7 439 Abs. 1 Alt. 2 BGB ist richtlinienkonform dahin auszulegen, dass die Nacherf\\u00fcllungsvariante 'Lieferung einer mangelfreien Sache' neben dem Ausbau und Abtransport der mangelhaften Kaufsache auch den Einbau der als Ersatz gelieferten Sache erfasst (im Anschluss an EuGH, Urteil vom 16. Juni 2011 - Rechtssachen C-65/09 und C-87/09, NJW 2011, 2269; Senatsurteil vom 21. Dezember 2011 - VIII ZR 70/08, NJW 2012, 1073).\",\n",
      "        \"cat\": 0.74408358335495\n",
      "    },\n",
      "    {\n",
      "        \"case_cit_count\": 0,\n",
      "        \"law_cit_count\": 0,\n",
      "        \"lit_cit_count\": 1,\n",
      "        \"pos\": 7098,\n",
      "        \"rel_pos\": 0.29502473086994474,\n",
      "        \"case_length\": 24059,\n",
      "        \"score\": 0,\n",
      "        \"text\": \"Sie ist aber nicht schon dann gegeben, wenn der Gesch\\u00e4digte lediglich Kenntnis von Ankn\\u00fcpfungstatsachen hatte (vgl. Senat, Urteil vom 27. Februar 2015 - VZR 133/14, NJW 2015, 2029 Rn. 33 zu \\u00a7 439 BGB a.F.).\",\n",
      "        \"cat\": 0.6995568871498108\n",
      "    },\n",
      "    {\n",
      "        \"case_cit_count\": 1,\n",
      "        \"law_cit_count\": 0,\n",
      "        \"lit_cit_count\": 1,\n",
      "        \"pos\": -1,\n",
      "        \"rel_pos\": -4.605111673958094e-05,\n",
      "        \"case_length\": 21715,\n",
      "        \"score\": 0,\n",
      "        \"text\": \"Diese Verpflichtung des Verk\\u00e4ufers besteht unabh\\u00e4ngig davon, ob er sich im Kaufvertrag verpflichtet hatte, das urspr\\u00fcnglich gekaufte Verbrauchsgut einzubauen.' 16\\tIn der abschlie\\u00dfenden Entscheidung \\u00fcber den dem Gerichtshof vorgelegten Fall des Verbrauchsg\\u00fcterkaufs hat der Senat daraufhin \\u00a7 439 Abs. 1 Alt. 2 BGB richtlinienkonform dahin ausgelegt, dass die Nacherf\\u00fcllungsvariante 'Lieferung einer mangelfreien Sache' auch den Ausbau und den Abtransport der mangelhaften Kaufsache umfasst (Urteil vom 21. Dezember 2011 - VIII ZR 70/08, zur Ver\\u00f6ffentlichung in BGHZ vorgesehen, NJW 2012, 1073 Rn. 25 ff.).\",\n",
      "        \"cat\": 0.5651651620864868\n",
      "    },\n",
      "    {\n",
      "        \"case_cit_count\": 1,\n",
      "        \"law_cit_count\": 0,\n",
      "        \"lit_cit_count\": 0,\n",
      "        \"pos\": 9619,\n",
      "        \"rel_pos\": 0.8926317743132888,\n",
      "        \"case_length\": 10776,\n",
      "        \"score\": 0,\n",
      "        \"text\": \"Ebenso wenig kann ein Anspruch der Kl\\u00e4gerin auf Schadensersatz statt der Leistung unter dem Gesichtspunkt einer Verletzung der Verpflichtung der Beklagten zur Nacherf\\u00fcllung gem\\u00e4\\u00df \\u00a7 439 Abs. 1 BGB ausgeschlossen werden (vgl. Senatsurteil vom 2. April 2014 - VIII ZR 46/13, BGHZ 200, 337 Rn. 23 f. mwN).\",\n",
      "        \"cat\": 0.5572129487991333\n",
      "    },\n",
      "    {\n",
      "        \"case_cit_count\": 1,\n",
      "        \"law_cit_count\": 0,\n",
      "        \"lit_cit_count\": 0,\n",
      "        \"pos\": -1,\n",
      "        \"rel_pos\": -3.8856077090456945e-05,\n",
      "        \"case_length\": 25736,\n",
      "        \"score\": 0,\n",
      "        \"text\": \"Bestimmt man die Sollbeschaffenheit dagegen weiter und r\\u00e4umt dem K\\u00e4ufer demgem\\u00e4\\u00df einen \\u201evollen\\u201c (Nach-) Erf\\u00fcllungsanspruch ein, kommt eine Behebung des Mangels am Gemeinschaftseigentum auch K\\u00e4ufern zugute, denen der Verk\\u00e4ufer bereits \\u201ekleinen\\u201c Schadensersatzoder Minderung geleistet hat (zu den Voraussetzungen, unter denen der Verk\\u00e4ufer die Nachbesserung nach \\u00a7 439 Abs.3 BGB verweigern kann, ausf\\u00fchrlich Senat, Urteil vom 4. April 2014 - V ZR 275/12, BGHZ 200, 350 Rn. 34 ff.).\",\n",
      "        \"cat\": 0.43109413981437683\n",
      "    },\n",
      "    {\n",
      "        \"case_cit_count\": 0,\n",
      "        \"law_cit_count\": 0,\n",
      "        \"lit_cit_count\": 1,\n",
      "        \"pos\": -1,\n",
      "        \"rel_pos\": -8.690362388111584e-05,\n",
      "        \"case_length\": 11507,\n",
      "        \"score\": 0,\n",
      "        \"text\": \"16\\tEs kann dahingestellt bleiben, ob sich der Verk\\u00e4ufer auf die Einrede aus \\u00a7 439 Abs.3 BGB dann nicht mehr berufen kann, wenn der K\\u00e4ufer bereits wirksam vom Vertrag zur\\u00fcckgetreten ist (so OLG Celle, NJW-RR 2007, 353 f.; vgl. dazu Lorenz, NJW 2007, 1, 5 f.).\",\n",
      "        \"cat\": 0.36978819966316223\n",
      "    },\n",
      "    {\n",
      "        \"case_cit_count\": 0,\n",
      "        \"law_cit_count\": 0,\n",
      "        \"lit_cit_count\": 1,\n",
      "        \"pos\": 770,\n",
      "        \"rel_pos\": 0.11412479620572107,\n",
      "        \"case_length\": 6747,\n",
      "        \"score\": 0,\n",
      "        \"text\": \"3\\tDer Senat hat - nach Erlass des Berufungsurteils - entschieden, dass die aufgrund des Urteils des Europ\\u00e4ischen Gerichtshofs vom 16. Juni 2011 (C-65/09, C-87/09 - Gebr. Weber GmbFI/J\\u00fcrgen Wittmer; Ingrid Putz/Medianess Electronics GmbH, NJW 2011, 2269) gebotene richtlinienkonforme Auslegung des \\u00a7 439 Abs. 1 Alt. 2 BGB auf den Verbrauchsg\\u00fcterkaufvertrag beschr\\u00e4nkt ist und nicht f\\u00fcr Kaufvertr\\u00e4ge zwischen Unternehmern oder zwischen Verbrauchern gilt.\",\n",
      "        \"cat\": 0.006049322430044413\n",
      "    },\n",
      "    {\n",
      "        \"case_cit_count\": 0,\n",
      "        \"law_cit_count\": 0,\n",
      "        \"lit_cit_count\": 1,\n",
      "        \"pos\": -1,\n",
      "        \"rel_pos\": -0.0003935458480913026,\n",
      "        \"case_length\": 2541,\n",
      "        \"score\": 0,\n",
      "        \"text\": \"3\\tDer\\tSenat hat - nach Erlass des Berufungsurteils - entschieden, dass die aufgrund des Urteils des Europ\\u00e4ischen Gerichtshofs vom 16. Juni 2011 (C-65/09, C-87/09 - Gebr. Weber GmbH/J\\u00fcrgen Wittmer; Ingrid Putz/Medianess Electronics GmbH, NJW 2011, 2269) gebotene richtlinienkonforme Auslegung des \\u00a7 439 Abs. 1 Alt. 2 BGB auf den Verbrauchsg\\u00fcterkaufvertrag beschr\\u00e4nkt ist und nicht f\\u00fcr Kaufvertr\\u00e4ge zwischen Unternehmern oder zwischen Verbrauchern gilt.\",\n",
      "        \"cat\": 0.0033716398756951094\n",
      "    }\n",
      "]\n"
     ]
    }
   ],
   "source": [
    "# Sort sentences by score        \n",
    "sorted_sents = sorted(sents, key=lambda k: k['cat'], reverse=True) \n",
    "\n",
    "print(json.dumps(sorted_sents, indent=4))"
   ]
  },
  {
   "cell_type": "code",
   "execution_count": 54,
   "metadata": {},
   "outputs": [
    {
     "data": {
      "text/plain": [
       "17"
      ]
     },
     "execution_count": 54,
     "metadata": {},
     "output_type": "execute_result"
    }
   ],
   "source": [
    "len(sorted_sents)"
   ]
  },
  {
   "cell_type": "code",
   "execution_count": 55,
   "metadata": {},
   "outputs": [],
   "source": [
    "with open(os.path.join(data_dir, 'cases_with_scores.jsonl'), 'w') as f:\n",
    "    f.write('\\n'.join(out))"
   ]
  },
  {
   "cell_type": "code",
   "execution_count": null,
   "metadata": {},
   "outputs": [],
   "source": []
  }
 ],
 "metadata": {
  "kernelspec": {
   "display_name": "Python 3",
   "language": "python",
   "name": "python3"
  },
  "language_info": {
   "codemirror_mode": {
    "name": "ipython",
    "version": 3
   },
   "file_extension": ".py",
   "mimetype": "text/x-python",
   "name": "python",
   "nbconvert_exporter": "python",
   "pygments_lexer": "ipython3",
   "version": "3.7.1"
  }
 },
 "nbformat": 4,
 "nbformat_minor": 2
}
